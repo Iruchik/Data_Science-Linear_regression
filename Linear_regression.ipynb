{
 "cells": [
  {
   "cell_type": "markdown",
   "id": "c201591a",
   "metadata": {
    "ExecuteTime": {
     "end_time": "2021-10-08T14:20:56.413092Z",
     "start_time": "2021-10-08T14:20:56.409316Z"
    },
    "id": "c201591a"
   },
   "source": [
    "# Лінійна регресія"
   ]
  },
  {
   "cell_type": "markdown",
   "id": "178d8f7b",
   "metadata": {
    "ExecuteTime": {
     "end_time": "2021-10-08T14:20:56.413092Z",
     "start_time": "2021-10-08T14:20:56.409316Z"
    },
    "id": "178d8f7b"
   },
   "source": [
    "Працюємо з набором даних про рівень щастя у країнах за 2019 рік. Він доступний на Kaggle [змагання](https://www.kaggle.com/unsdsn/world-happiness?select=2019.csv)."
   ]
  },
  {
   "cell_type": "code",
   "execution_count": 53,
   "id": "e5bfeac9",
   "metadata": {
    "id": "e5bfeac9"
   },
   "outputs": [],
   "source": [
    "import numpy as np\n",
    "import pandas as pd\n",
    "import seaborn as sns\n",
    "import matplotlib.pyplot as plt\n",
    "%matplotlib inline\n",
    "from sklearn.model_selection import train_test_split\n",
    "from sklearn.preprocessing import MinMaxScaler, StandardScaler, RobustScaler\n",
    "from sklearn.metrics import mean_squared_error\n",
    "from sklearn.linear_model import LinearRegression\n",
    "import operator \n",
    "from sklearn.preprocessing import PolynomialFeatures\n",
    "from sklearn.linear_model import Ridge, Lasso, ElasticNet\n",
    "from sklearn.pipeline import Pipeline"
   ]
  },
  {
   "cell_type": "markdown",
   "id": "d612bd8a",
   "metadata": {
    "id": "d612bd8a"
   },
   "source": [
    "1. Зчитуємо дані за допомогою pandas у змінну `df`."
   ]
  },
  {
   "cell_type": "code",
   "execution_count": 54,
   "id": "ca3aeea7",
   "metadata": {
    "id": "ca3aeea7"
   },
   "outputs": [
    {
     "name": "stdout",
     "output_type": "stream",
     "text": [
      "     Overall rank         Country or region  Score  GDP per capita  \\\n",
      "0               1                   Finland  7.769           1.340   \n",
      "1               2                   Denmark  7.600           1.383   \n",
      "2               3                    Norway  7.554           1.488   \n",
      "3               4                   Iceland  7.494           1.380   \n",
      "4               5               Netherlands  7.488           1.396   \n",
      "..            ...                       ...    ...             ...   \n",
      "151           152                    Rwanda  3.334           0.359   \n",
      "152           153                  Tanzania  3.231           0.476   \n",
      "153           154               Afghanistan  3.203           0.350   \n",
      "154           155  Central African Republic  3.083           0.026   \n",
      "155           156               South Sudan  2.853           0.306   \n",
      "\n",
      "     Social support  Healthy life expectancy  Freedom to make life choices  \\\n",
      "0             1.587                    0.986                         0.596   \n",
      "1             1.573                    0.996                         0.592   \n",
      "2             1.582                    1.028                         0.603   \n",
      "3             1.624                    1.026                         0.591   \n",
      "4             1.522                    0.999                         0.557   \n",
      "..              ...                      ...                           ...   \n",
      "151           0.711                    0.614                         0.555   \n",
      "152           0.885                    0.499                         0.417   \n",
      "153           0.517                    0.361                         0.000   \n",
      "154           0.000                    0.105                         0.225   \n",
      "155           0.575                    0.295                         0.010   \n",
      "\n",
      "     Generosity  Perceptions of corruption  \n",
      "0         0.153                      0.393  \n",
      "1         0.252                      0.410  \n",
      "2         0.271                      0.341  \n",
      "3         0.354                      0.118  \n",
      "4         0.322                      0.298  \n",
      "..          ...                        ...  \n",
      "151       0.217                      0.411  \n",
      "152       0.276                      0.147  \n",
      "153       0.158                      0.025  \n",
      "154       0.235                      0.035  \n",
      "155       0.202                      0.091  \n",
      "\n",
      "[156 rows x 9 columns]\n"
     ]
    }
   ],
   "source": [
    "df = pd.read_csv(r\"C:\\Data\\2019.csv\")\n",
    "print(df)"
   ]
  },
  {
   "cell_type": "code",
   "execution_count": 55,
   "id": "2be6f8d1",
   "metadata": {},
   "outputs": [
    {
     "data": {
      "text/html": [
       "<div>\n",
       "<style scoped>\n",
       "    .dataframe tbody tr th:only-of-type {\n",
       "        vertical-align: middle;\n",
       "    }\n",
       "\n",
       "    .dataframe tbody tr th {\n",
       "        vertical-align: top;\n",
       "    }\n",
       "\n",
       "    .dataframe thead th {\n",
       "        text-align: right;\n",
       "    }\n",
       "</style>\n",
       "<table border=\"1\" class=\"dataframe\">\n",
       "  <thead>\n",
       "    <tr style=\"text-align: right;\">\n",
       "      <th></th>\n",
       "      <th>Overall rank</th>\n",
       "      <th>Country or region</th>\n",
       "      <th>Score</th>\n",
       "      <th>GDP per capita</th>\n",
       "      <th>Social support</th>\n",
       "      <th>Healthy life expectancy</th>\n",
       "      <th>Freedom to make life choices</th>\n",
       "      <th>Generosity</th>\n",
       "      <th>Perceptions of corruption</th>\n",
       "    </tr>\n",
       "  </thead>\n",
       "  <tbody>\n",
       "    <tr>\n",
       "      <th>0</th>\n",
       "      <td>1</td>\n",
       "      <td>Finland</td>\n",
       "      <td>7.769</td>\n",
       "      <td>1.340</td>\n",
       "      <td>1.587</td>\n",
       "      <td>0.986</td>\n",
       "      <td>0.596</td>\n",
       "      <td>0.153</td>\n",
       "      <td>0.393</td>\n",
       "    </tr>\n",
       "    <tr>\n",
       "      <th>1</th>\n",
       "      <td>2</td>\n",
       "      <td>Denmark</td>\n",
       "      <td>7.600</td>\n",
       "      <td>1.383</td>\n",
       "      <td>1.573</td>\n",
       "      <td>0.996</td>\n",
       "      <td>0.592</td>\n",
       "      <td>0.252</td>\n",
       "      <td>0.410</td>\n",
       "    </tr>\n",
       "    <tr>\n",
       "      <th>2</th>\n",
       "      <td>3</td>\n",
       "      <td>Norway</td>\n",
       "      <td>7.554</td>\n",
       "      <td>1.488</td>\n",
       "      <td>1.582</td>\n",
       "      <td>1.028</td>\n",
       "      <td>0.603</td>\n",
       "      <td>0.271</td>\n",
       "      <td>0.341</td>\n",
       "    </tr>\n",
       "    <tr>\n",
       "      <th>3</th>\n",
       "      <td>4</td>\n",
       "      <td>Iceland</td>\n",
       "      <td>7.494</td>\n",
       "      <td>1.380</td>\n",
       "      <td>1.624</td>\n",
       "      <td>1.026</td>\n",
       "      <td>0.591</td>\n",
       "      <td>0.354</td>\n",
       "      <td>0.118</td>\n",
       "    </tr>\n",
       "    <tr>\n",
       "      <th>4</th>\n",
       "      <td>5</td>\n",
       "      <td>Netherlands</td>\n",
       "      <td>7.488</td>\n",
       "      <td>1.396</td>\n",
       "      <td>1.522</td>\n",
       "      <td>0.999</td>\n",
       "      <td>0.557</td>\n",
       "      <td>0.322</td>\n",
       "      <td>0.298</td>\n",
       "    </tr>\n",
       "  </tbody>\n",
       "</table>\n",
       "</div>"
      ],
      "text/plain": [
       "   Overall rank Country or region  Score  GDP per capita  Social support  \\\n",
       "0             1           Finland  7.769           1.340           1.587   \n",
       "1             2           Denmark  7.600           1.383           1.573   \n",
       "2             3            Norway  7.554           1.488           1.582   \n",
       "3             4           Iceland  7.494           1.380           1.624   \n",
       "4             5       Netherlands  7.488           1.396           1.522   \n",
       "\n",
       "   Healthy life expectancy  Freedom to make life choices  Generosity  \\\n",
       "0                    0.986                         0.596       0.153   \n",
       "1                    0.996                         0.592       0.252   \n",
       "2                    1.028                         0.603       0.271   \n",
       "3                    1.026                         0.591       0.354   \n",
       "4                    0.999                         0.557       0.322   \n",
       "\n",
       "   Perceptions of corruption  \n",
       "0                      0.393  \n",
       "1                      0.410  \n",
       "2                      0.341  \n",
       "3                      0.118  \n",
       "4                      0.298  "
      ]
     },
     "execution_count": 55,
     "metadata": {},
     "output_type": "execute_result"
    }
   ],
   "source": [
    "df.head()"
   ]
  },
  {
   "cell_type": "code",
   "execution_count": 56,
   "id": "5d588fd0",
   "metadata": {},
   "outputs": [
    {
     "data": {
      "text/plain": [
       "(156, 9)"
      ]
     },
     "execution_count": 56,
     "metadata": {},
     "output_type": "execute_result"
    }
   ],
   "source": [
    "df.shape"
   ]
  },
  {
   "cell_type": "code",
   "execution_count": 57,
   "id": "63846b84",
   "metadata": {},
   "outputs": [
    {
     "name": "stdout",
     "output_type": "stream",
     "text": [
      "<class 'pandas.core.frame.DataFrame'>\n",
      "RangeIndex: 156 entries, 0 to 155\n",
      "Data columns (total 9 columns):\n",
      " #   Column                        Non-Null Count  Dtype  \n",
      "---  ------                        --------------  -----  \n",
      " 0   Overall rank                  156 non-null    int64  \n",
      " 1   Country or region             156 non-null    object \n",
      " 2   Score                         156 non-null    float64\n",
      " 3   GDP per capita                156 non-null    float64\n",
      " 4   Social support                156 non-null    float64\n",
      " 5   Healthy life expectancy       156 non-null    float64\n",
      " 6   Freedom to make life choices  156 non-null    float64\n",
      " 7   Generosity                    156 non-null    float64\n",
      " 8   Perceptions of corruption     156 non-null    float64\n",
      "dtypes: float64(7), int64(1), object(1)\n",
      "memory usage: 11.1+ KB\n"
     ]
    }
   ],
   "source": [
    "df.info()"
   ]
  },
  {
   "cell_type": "markdown",
   "id": "2b3cce20",
   "metadata": {
    "ExecuteTime": {
     "end_time": "2021-10-14T17:21:00.884611Z",
     "start_time": "2021-10-14T17:21:00.881566Z"
    },
    "id": "2b3cce20"
   },
   "source": [
    "2. Виведемо діаграму розсіювання ознак `Score` та `GDP per capita`, використовуючи метод `regplot()` з `seaborn`."
   ]
  },
  {
   "cell_type": "code",
   "execution_count": 58,
   "id": "fa1a32b9",
   "metadata": {
    "id": "fa1a32b9"
   },
   "outputs": [
    {
     "data": {
      "image/png": "[encoded data removed]",
      "text/plain": [
       "<Figure size 640x480 with 1 Axes>"
      ]
     },
     "metadata": {},
     "output_type": "display_data"
    }
   ],
   "source": [
    "sns.regplot(data=df, x='Score', y= 'GDP per capita')\n",
    "plt.title('Score vs GDP per capita')\n",
    "plt.xlabel('Score')\n",
    "plt.ylabel('GDP per capita')\n",
    "plt.show()"
   ]
  },
  {
   "cell_type": "markdown",
   "id": "fe20c4f7",
   "metadata": {
    "id": "fe20c4f7"
   },
   "source": [
    "Ми моделюватимемо цю залежність. Тобто незалежною змінною є `GDP per capita`, залежною `Score`. Судячи з діаграми розсіювання, залежність між цими двома змінними має добре описуватись лінійною моделлю."
   ]
  },
  {
   "cell_type": "markdown",
   "id": "fac2b15e",
   "metadata": {
    "id": "fac2b15e"
   },
   "source": [
    "## Розв'язання задачі лінійної регресії методом градієнтного спуску"
   ]
  },
  {
   "cell_type": "markdown",
   "id": "c5f7382a",
   "metadata": {
    "id": "c5f7382a"
   },
   "source": [
    "Позначення:\n",
    "- `X` - матриця ознак\n",
    "- `y` - цільова змінна\n",
    "- `theta` - вектор параметрів\n",
    "- `alpha` - темп навчання (learning rate)"
   ]
  },
  {
   "cell_type": "markdown",
   "id": "b0820ce0",
   "metadata": {
    "ExecuteTime": {
     "end_time": "2021-10-08T14:31:44.843127Z",
     "start_time": "2021-10-08T14:31:44.839958Z"
    },
    "id": "b0820ce0"
   },
   "source": [
    "3. Реалізуємо формулу передбачення лінійної регресії у методі `predict`. Метод повертає передбачення. Для кожного спостереження з матриці ознак передбачення знаходимо за допомогою наступної формули:\n",
    "$$x \\in X, i \\in [1,m], j : \\\\ \\hat{y}_i = \\theta_0 + \\theta_1 x_1 + ... + \\theta_n x_n = \\theta^T x ,\\\\\n",
    "\\text{де m - кількість спостережень, } \\\\ \n",
    "\\text{n - кількість ознак, } \\\\\n",
    "x_0 = 1 \\ \\text{для всіх спостережень}.\n",
    "$$\n",
    "\n",
    "Передбачення всіх спостережень у матриці Х можемо знайти як множення матриці ознак на ваги."
   ]
  },
  {
   "cell_type": "code",
   "execution_count": 59,
   "id": "a9f34e8f",
   "metadata": {
    "ExecuteTime": {
     "end_time": "2021-10-08T14:30:30.020347Z",
     "start_time": "2021-10-08T14:30:30.017723Z"
    },
    "id": "a9f34e8f"
   },
   "outputs": [],
   "source": [
    "def predict(X, theta):\n",
    "    prediction = X @ theta\n",
    "    return prediction"
   ]
  },
  {
   "cell_type": "markdown",
   "id": "dc68bc0e",
   "metadata": {
    "id": "dc68bc0e"
   },
   "source": [
    "4. Доповнимо обчислення значення функції витрат.  \n",
    "Метод `cost()` приймає вектор параметрів `theta`, матрицю наших ознак `X` та реальні значення цільової змінної `y`.\n"
   ]
  },
  {
   "cell_type": "code",
   "execution_count": 60,
   "id": "b8e63ce7",
   "metadata": {
    "ExecuteTime": {
     "end_time": "2021-10-08T20:45:54.974985Z",
     "start_time": "2021-10-08T20:45:54.972316Z"
    },
    "id": "b8e63ce7"
   },
   "outputs": [],
   "source": [
    "def cost(y_true, y_estimate):\n",
    "    m = len(y_true)\n",
    "    cost_value = (1./(2*m))*np.sum(np.power(y_true - y_estimate, 2))\n",
    "    return cost_value"
   ]
  },
  {
   "cell_type": "markdown",
   "id": "64975088",
   "metadata": {
    "id": "64975088"
   },
   "source": [
    "5. Ознайомимося з реалізацією методу `get_gradient()`, який повертає вектор часткових похідних функції витрат за кожним із параметрів лінійної регресії.\n",
    "Доповнимо метод `gradient_descent()`, який дозволить реалізувати алгоритм градієтного спуску. Під час градієнтного спуcку оновлюємо параметри згідно з формулою:\n",
    "$$\n",
    "\\text{для кожного} \\ j \\in [0, n]: \\quad \\theta_j := \\theta_j - \\alpha \\frac{\\partial}{\\partial \\theta_j}J(\\theta), \\\\ \n",
    "\\text{де n - кількість ознак}\n",
    "$$\n",
    "    Метод градієнтного спуску оновлює ваги (модель навчається) поки вони не перестануть змінюватися від ітерації до ітерації, тобто поки Евклідова відстань (звичайна відстань між веткорами, як у шкільній геометрії) між векторами ваг за останні дві ітерації не буде меншою за невелику константу (зазвичай позначається як $\\epsilon$ (епсілон), ми встановимо $\\epsilon=10^{-6}$).\n",
    "\n",
    "В `gradient_descent()` заповнимо всі місця, де стоять три крапки. Використиємо реалізовані у попередніх завданнях методи `cost()` та `predict()`, і звичайно ж нам знадобиться метод `get_gradient()`."
   ]
  },
  {
   "cell_type": "code",
   "execution_count": 62,
   "id": "6aaba898",
   "metadata": {
    "ExecuteTime": {
     "end_time": "2022-01-30T18:18:37.374720Z",
     "start_time": "2022-01-30T18:18:37.349521Z"
    },
    "id": "6aaba898"
   },
   "outputs": [],
   "source": [
    "def get_gradient(X, y, y_estimate):\n",
    "    m = len(y)\n",
    "    gradient = (1.0 / m) * X.T @ (y_estimate - y)\n",
    "    return gradient"
   ]
  },
  {
   "cell_type": "code",
   "execution_count": 63,
   "id": "4062f8df",
   "metadata": {
    "ExecuteTime": {
     "end_time": "2022-01-23T14:33:36.235226Z",
     "start_time": "2022-01-23T14:33:36.199550Z"
    },
    "id": "4062f8df"
   },
   "outputs": [],
   "source": [
    "def gradient_descent(X, y, theta, learning_rate, eps, max_iterations):\n",
    "    cost_history = []\n",
    "    theta_history = []\n",
    "    iterations = 1\n",
    "    while True:\n",
    "        y_estimate = predict(X, theta) # передбачення з поточними значеннями вагів\n",
    "        gradient = get_gradient(X, y, y_estimate) # значення часткових похідних функції витрат з поточними значеннями ваг\n",
    "        cost_value = cost(y, y_estimate) # значення функції витрат при поточних вагах\n",
    "        cost_history.append(cost_value)\n",
    "        new_theta = theta - learning_rate*gradient\n",
    "        theta_history.append(new_theta)\n",
    "        # Умова зупинки, описана в умові завдання\n",
    "        if cost_value < eps:\n",
    "            print(\"Алгоритм зійшовся.\")\n",
    "            break\n",
    "            \n",
    "        # Друга умова зупинки\n",
    "        if iterations >= max_iterations:\n",
    "            print(\"Досягнуто максимальної кількості ітерацій\")\n",
    "            break\n",
    "\n",
    "        # Виводимо інформацію кожні 100 ітерацій\n",
    "        if iterations % 100 == 0:\n",
    "            print (\"Ітерація: %d - Помилка на трейн даних: %.4f\" % (iterations, cost_value))\n",
    "\n",
    "        iterations += 1\n",
    "        theta = new_theta\n",
    "    return theta, cost_history, theta_history, iterations"
   ]
  },
  {
   "cell_type": "markdown",
   "id": "2cefb83e",
   "metadata": {
    "id": "2cefb83e"
   },
   "source": [
    "Підготуємо дані."
   ]
  },
  {
   "cell_type": "code",
   "execution_count": 66,
   "id": "fdbb2770",
   "metadata": {
    "ExecuteTime": {
     "end_time": "2021-10-10T19:28:00.717047Z",
     "start_time": "2021-10-10T19:28:00.714364Z"
    },
    "id": "fdbb2770"
   },
   "outputs": [],
   "source": [
    "X = df['GDP per capita'].values.reshape(-1,1)\n",
    "y = df['Score'].values.reshape(-1,1)"
   ]
  },
  {
   "cell_type": "markdown",
   "id": "12fb7483",
   "metadata": {
    "id": "12fb7483"
   },
   "source": [
    "6. Розділимо `X` та `y` на `train` і `test` підвиборки у співвідношенні 80/20. Запишемо результати у `X_train`, `y_train`, `X_test`, `y_test`."
   ]
  },
  {
   "cell_type": "code",
   "execution_count": 67,
   "id": "30c61750",
   "metadata": {},
   "outputs": [
    {
     "name": "stdout",
     "output_type": "stream",
     "text": [
      "X_train: (124, 1) X_test: (32, 1) y_train: (124, 1) y_test: (32, 1)\n"
     ]
    }
   ],
   "source": [
    "X_train, X_test, y_train, y_test = train_test_split(X, y, test_size=0.2, shuffle=True, random_state=42)\n",
    "print(\"X_train:\",X_train.shape, \"X_test:\", X_test.shape, \"y_train:\", y_train.shape, \"y_test:\", y_test.shape)"
   ]
  },
  {
   "cell_type": "markdown",
   "id": "f54c99e4",
   "metadata": {
    "id": "f54c99e4"
   },
   "source": [
    "7.Реалізуємо масштабування ознак із використанням `MinMaxScaler`. "
   ]
  },
  {
   "cell_type": "code",
   "execution_count": 68,
   "id": "d2f92029",
   "metadata": {
    "id": "d2f92029"
   },
   "outputs": [],
   "source": [
    "scaler = MinMaxScaler(feature_range=(0,1))\n",
    "scaler.fit(X_train)\n",
    "X_train_scaled = scaler.transform(X_train)\n",
    "X_test_scaled = scaler.transform(X_test)"
   ]
  },
  {
   "cell_type": "markdown",
   "id": "832cd76a",
   "metadata": {
    "id": "832cd76a"
   },
   "source": [
    "8. Додамо колонку з одиниць до масивів `X_train`, `X_test`."
   ]
  },
  {
   "cell_type": "code",
   "execution_count": 69,
   "id": "7722e7d4",
   "metadata": {
    "id": "7722e7d4"
   },
   "outputs": [],
   "source": [
    "X_train_scaled = np.concatenate((X_train_scaled, np.ones(X_train_scaled.shape)), axis=1)\n",
    "X_test_scaled = np.hstack((X_test_scaled, np.ones(X_test_scaled.shape)))"
   ]
  },
  {
   "cell_type": "markdown",
   "id": "bf927241",
   "metadata": {
    "id": "bf927241"
   },
   "source": [
    "9. Встановимо темп навчання рівний 0.01, точність епсілон рівний $10^{-6}$, кількість ітерацій дорівнює 20000 і запустимо градієнтний спуск на тренувальні дані, передавши всі необхідні параметри."
   ]
  },
  {
   "cell_type": "code",
   "execution_count": 70,
   "id": "ed756079",
   "metadata": {
    "ExecuteTime": {
     "end_time": "2021-10-08T20:20:00.992990Z",
     "start_time": "2021-10-08T20:20:00.989771Z"
    },
    "id": "ed756079"
   },
   "outputs": [
    {
     "name": "stdout",
     "output_type": "stream",
     "text": [
      "Ітерація: 100 - Помилка на трейн даних: 1.2907\n",
      "Ітерація: 200 - Помилка на трейн даних: 0.3974\n",
      "Ітерація: 300 - Помилка на трейн даних: 0.3230\n",
      "Ітерація: 400 - Помилка на трейн даних: 0.3096\n",
      "Ітерація: 500 - Помилка на трейн даних: 0.3013\n",
      "Ітерація: 600 - Помилка на трейн даних: 0.2941\n",
      "Ітерація: 700 - Помилка на трейн даних: 0.2875\n",
      "Ітерація: 800 - Помилка на трейн даних: 0.2815\n",
      "Ітерація: 900 - Помилка на трейн даних: 0.2761\n",
      "Ітерація: 1000 - Помилка на трейн даних: 0.2711\n",
      "Ітерація: 1100 - Помилка на трейн даних: 0.2666\n",
      "Ітерація: 1200 - Помилка на трейн даних: 0.2625\n",
      "Ітерація: 1300 - Помилка на трейн даних: 0.2588\n",
      "Ітерація: 1400 - Помилка на трейн даних: 0.2554\n",
      "Ітерація: 1500 - Помилка на трейн даних: 0.2523\n",
      "Ітерація: 1600 - Помилка на трейн даних: 0.2495\n",
      "Ітерація: 1700 - Помилка на трейн даних: 0.2469\n",
      "Ітерація: 1800 - Помилка на трейн даних: 0.2446\n",
      "Ітерація: 1900 - Помилка на трейн даних: 0.2425\n",
      "Ітерація: 2000 - Помилка на трейн даних: 0.2405\n",
      "Ітерація: 2100 - Помилка на трейн даних: 0.2388\n",
      "Ітерація: 2200 - Помилка на трейн даних: 0.2372\n",
      "Ітерація: 2300 - Помилка на трейн даних: 0.2357\n",
      "Ітерація: 2400 - Помилка на трейн даних: 0.2344\n",
      "Ітерація: 2500 - Помилка на трейн даних: 0.2332\n",
      "Ітерація: 2600 - Помилка на трейн даних: 0.2321\n",
      "Ітерація: 2700 - Помилка на трейн даних: 0.2311\n",
      "Ітерація: 2800 - Помилка на трейн даних: 0.2301\n",
      "Ітерація: 2900 - Помилка на трейн даних: 0.2293\n",
      "Ітерація: 3000 - Помилка на трейн даних: 0.2285\n",
      "Ітерація: 3100 - Помилка на трейн даних: 0.2279\n",
      "Ітерація: 3200 - Помилка на трейн даних: 0.2272\n",
      "Ітерація: 3300 - Помилка на трейн даних: 0.2267\n",
      "Ітерація: 3400 - Помилка на трейн даних: 0.2261\n",
      "Ітерація: 3500 - Помилка на трейн даних: 0.2257\n",
      "Ітерація: 3600 - Помилка на трейн даних: 0.2252\n",
      "Ітерація: 3700 - Помилка на трейн даних: 0.2248\n",
      "Ітерація: 3800 - Помилка на трейн даних: 0.2245\n",
      "Ітерація: 3900 - Помилка на трейн даних: 0.2242\n",
      "Ітерація: 4000 - Помилка на трейн даних: 0.2239\n",
      "Ітерація: 4100 - Помилка на трейн даних: 0.2236\n",
      "Ітерація: 4200 - Помилка на трейн даних: 0.2234\n",
      "Ітерація: 4300 - Помилка на трейн даних: 0.2231\n",
      "Ітерація: 4400 - Помилка на трейн даних: 0.2229\n",
      "Ітерація: 4500 - Помилка на трейн даних: 0.2227\n",
      "Ітерація: 4600 - Помилка на трейн даних: 0.2226\n",
      "Ітерація: 4700 - Помилка на трейн даних: 0.2224\n",
      "Ітерація: 4800 - Помилка на трейн даних: 0.2223\n",
      "Ітерація: 4900 - Помилка на трейн даних: 0.2222\n",
      "Ітерація: 5000 - Помилка на трейн даних: 0.2220\n",
      "Ітерація: 5100 - Помилка на трейн даних: 0.2219\n",
      "Ітерація: 5200 - Помилка на трейн даних: 0.2218\n",
      "Ітерація: 5300 - Помилка на трейн даних: 0.2217\n",
      "Ітерація: 5400 - Помилка на трейн даних: 0.2217\n",
      "Ітерація: 5500 - Помилка на трейн даних: 0.2216\n",
      "Ітерація: 5600 - Помилка на трейн даних: 0.2215\n",
      "Ітерація: 5700 - Помилка на трейн даних: 0.2215\n",
      "Ітерація: 5800 - Помилка на трейн даних: 0.2214\n",
      "Ітерація: 5900 - Помилка на трейн даних: 0.2214\n",
      "Ітерація: 6000 - Помилка на трейн даних: 0.2213\n",
      "Ітерація: 6100 - Помилка на трейн даних: 0.2213\n",
      "Ітерація: 6200 - Помилка на трейн даних: 0.2212\n",
      "Ітерація: 6300 - Помилка на трейн даних: 0.2212\n",
      "Ітерація: 6400 - Помилка на трейн даних: 0.2212\n",
      "Ітерація: 6500 - Помилка на трейн даних: 0.2211\n",
      "Ітерація: 6600 - Помилка на трейн даних: 0.2211\n",
      "Ітерація: 6700 - Помилка на трейн даних: 0.2211\n",
      "Ітерація: 6800 - Помилка на трейн даних: 0.2211\n",
      "Ітерація: 6900 - Помилка на трейн даних: 0.2211\n",
      "Ітерація: 7000 - Помилка на трейн даних: 0.2210\n",
      "Ітерація: 7100 - Помилка на трейн даних: 0.2210\n",
      "Ітерація: 7200 - Помилка на трейн даних: 0.2210\n",
      "Ітерація: 7300 - Помилка на трейн даних: 0.2210\n",
      "Ітерація: 7400 - Помилка на трейн даних: 0.2210\n",
      "Ітерація: 7500 - Помилка на трейн даних: 0.2210\n",
      "Ітерація: 7600 - Помилка на трейн даних: 0.2210\n",
      "Ітерація: 7700 - Помилка на трейн даних: 0.2210\n",
      "Ітерація: 7800 - Помилка на трейн даних: 0.2209\n",
      "Ітерація: 7900 - Помилка на трейн даних: 0.2209\n",
      "Ітерація: 8000 - Помилка на трейн даних: 0.2209\n",
      "Ітерація: 8100 - Помилка на трейн даних: 0.2209\n",
      "Ітерація: 8200 - Помилка на трейн даних: 0.2209\n",
      "Ітерація: 8300 - Помилка на трейн даних: 0.2209\n",
      "Ітерація: 8400 - Помилка на трейн даних: 0.2209\n",
      "Ітерація: 8500 - Помилка на трейн даних: 0.2209\n",
      "Ітерація: 8600 - Помилка на трейн даних: 0.2209\n",
      "Ітерація: 8700 - Помилка на трейн даних: 0.2209\n",
      "Ітерація: 8800 - Помилка на трейн даних: 0.2209\n",
      "Ітерація: 8900 - Помилка на трейн даних: 0.2209\n",
      "Ітерація: 9000 - Помилка на трейн даних: 0.2209\n",
      "Ітерація: 9100 - Помилка на трейн даних: 0.2209\n",
      "Ітерація: 9200 - Помилка на трейн даних: 0.2209\n",
      "Ітерація: 9300 - Помилка на трейн даних: 0.2209\n",
      "Ітерація: 9400 - Помилка на трейн даних: 0.2209\n",
      "Ітерація: 9500 - Помилка на трейн даних: 0.2209\n",
      "Ітерація: 9600 - Помилка на трейн даних: 0.2209\n",
      "Ітерація: 9700 - Помилка на трейн даних: 0.2209\n",
      "Ітерація: 9800 - Помилка на трейн даних: 0.2209\n",
      "Ітерація: 9900 - Помилка на трейн даних: 0.2209\n",
      "Ітерація: 10000 - Помилка на трейн даних: 0.2209\n",
      "Ітерація: 10100 - Помилка на трейн даних: 0.2209\n",
      "Ітерація: 10200 - Помилка на трейн даних: 0.2209\n",
      "Ітерація: 10300 - Помилка на трейн даних: 0.2209\n",
      "Ітерація: 10400 - Помилка на трейн даних: 0.2209\n",
      "Ітерація: 10500 - Помилка на трейн даних: 0.2209\n",
      "Ітерація: 10600 - Помилка на трейн даних: 0.2209\n",
      "Ітерація: 10700 - Помилка на трейн даних: 0.2209\n",
      "Ітерація: 10800 - Помилка на трейн даних: 0.2209\n",
      "Ітерація: 10900 - Помилка на трейн даних: 0.2209\n",
      "Ітерація: 11000 - Помилка на трейн даних: 0.2209\n",
      "Ітерація: 11100 - Помилка на трейн даних: 0.2209\n",
      "Ітерація: 11200 - Помилка на трейн даних: 0.2209\n",
      "Ітерація: 11300 - Помилка на трейн даних: 0.2209\n",
      "Ітерація: 11400 - Помилка на трейн даних: 0.2209\n",
      "Ітерація: 11500 - Помилка на трейн даних: 0.2209\n",
      "Ітерація: 11600 - Помилка на трейн даних: 0.2209\n",
      "Ітерація: 11700 - Помилка на трейн даних: 0.2209\n",
      "Ітерація: 11800 - Помилка на трейн даних: 0.2209\n",
      "Ітерація: 11900 - Помилка на трейн даних: 0.2209\n",
      "Ітерація: 12000 - Помилка на трейн даних: 0.2209\n",
      "Ітерація: 12100 - Помилка на трейн даних: 0.2209\n",
      "Ітерація: 12200 - Помилка на трейн даних: 0.2209\n",
      "Ітерація: 12300 - Помилка на трейн даних: 0.2209\n",
      "Ітерація: 12400 - Помилка на трейн даних: 0.2209\n",
      "Ітерація: 12500 - Помилка на трейн даних: 0.2209\n",
      "Ітерація: 12600 - Помилка на трейн даних: 0.2209\n",
      "Ітерація: 12700 - Помилка на трейн даних: 0.2209\n",
      "Ітерація: 12800 - Помилка на трейн даних: 0.2209\n",
      "Ітерація: 12900 - Помилка на трейн даних: 0.2209\n",
      "Ітерація: 13000 - Помилка на трейн даних: 0.2209\n",
      "Ітерація: 13100 - Помилка на трейн даних: 0.2209\n",
      "Ітерація: 13200 - Помилка на трейн даних: 0.2209\n",
      "Ітерація: 13300 - Помилка на трейн даних: 0.2209\n",
      "Ітерація: 13400 - Помилка на трейн даних: 0.2209\n",
      "Ітерація: 13500 - Помилка на трейн даних: 0.2209\n",
      "Ітерація: 13600 - Помилка на трейн даних: 0.2209\n",
      "Ітерація: 13700 - Помилка на трейн даних: 0.2209\n",
      "Ітерація: 13800 - Помилка на трейн даних: 0.2209\n",
      "Ітерація: 13900 - Помилка на трейн даних: 0.2209\n",
      "Ітерація: 14000 - Помилка на трейн даних: 0.2209\n",
      "Ітерація: 14100 - Помилка на трейн даних: 0.2209\n",
      "Ітерація: 14200 - Помилка на трейн даних: 0.2209\n",
      "Ітерація: 14300 - Помилка на трейн даних: 0.2209\n",
      "Ітерація: 14400 - Помилка на трейн даних: 0.2209\n",
      "Ітерація: 14500 - Помилка на трейн даних: 0.2209\n",
      "Ітерація: 14600 - Помилка на трейн даних: 0.2209\n",
      "Ітерація: 14700 - Помилка на трейн даних: 0.2209\n",
      "Ітерація: 14800 - Помилка на трейн даних: 0.2209\n",
      "Ітерація: 14900 - Помилка на трейн даних: 0.2209\n",
      "Ітерація: 15000 - Помилка на трейн даних: 0.2209\n",
      "Ітерація: 15100 - Помилка на трейн даних: 0.2209\n",
      "Ітерація: 15200 - Помилка на трейн даних: 0.2209\n",
      "Ітерація: 15300 - Помилка на трейн даних: 0.2209\n",
      "Ітерація: 15400 - Помилка на трейн даних: 0.2209\n",
      "Ітерація: 15500 - Помилка на трейн даних: 0.2209\n",
      "Ітерація: 15600 - Помилка на трейн даних: 0.2209\n",
      "Ітерація: 15700 - Помилка на трейн даних: 0.2209\n",
      "Ітерація: 15800 - Помилка на трейн даних: 0.2209\n",
      "Ітерація: 15900 - Помилка на трейн даних: 0.2209\n",
      "Ітерація: 16000 - Помилка на трейн даних: 0.2209\n",
      "Ітерація: 16100 - Помилка на трейн даних: 0.2209\n",
      "Ітерація: 16200 - Помилка на трейн даних: 0.2209\n",
      "Ітерація: 16300 - Помилка на трейн даних: 0.2209\n",
      "Ітерація: 16400 - Помилка на трейн даних: 0.2209\n",
      "Ітерація: 16500 - Помилка на трейн даних: 0.2209\n",
      "Ітерація: 16600 - Помилка на трейн даних: 0.2209\n",
      "Ітерація: 16700 - Помилка на трейн даних: 0.2209\n",
      "Ітерація: 16800 - Помилка на трейн даних: 0.2209\n",
      "Ітерація: 16900 - Помилка на трейн даних: 0.2209\n",
      "Ітерація: 17000 - Помилка на трейн даних: 0.2209\n",
      "Ітерація: 17100 - Помилка на трейн даних: 0.2209\n",
      "Ітерація: 17200 - Помилка на трейн даних: 0.2209\n",
      "Ітерація: 17300 - Помилка на трейн даних: 0.2209\n",
      "Ітерація: 17400 - Помилка на трейн даних: 0.2209\n",
      "Ітерація: 17500 - Помилка на трейн даних: 0.2209\n",
      "Ітерація: 17600 - Помилка на трейн даних: 0.2209\n",
      "Ітерація: 17700 - Помилка на трейн даних: 0.2209\n",
      "Ітерація: 17800 - Помилка на трейн даних: 0.2209\n",
      "Ітерація: 17900 - Помилка на трейн даних: 0.2209\n",
      "Ітерація: 18000 - Помилка на трейн даних: 0.2209\n",
      "Ітерація: 18100 - Помилка на трейн даних: 0.2209\n",
      "Ітерація: 18200 - Помилка на трейн даних: 0.2209\n",
      "Ітерація: 18300 - Помилка на трейн даних: 0.2209\n",
      "Ітерація: 18400 - Помилка на трейн даних: 0.2209\n",
      "Ітерація: 18500 - Помилка на трейн даних: 0.2209\n",
      "Ітерація: 18600 - Помилка на трейн даних: 0.2209\n",
      "Ітерація: 18700 - Помилка на трейн даних: 0.2209\n",
      "Ітерація: 18800 - Помилка на трейн даних: 0.2209\n",
      "Ітерація: 18900 - Помилка на трейн даних: 0.2209\n",
      "Ітерація: 19000 - Помилка на трейн даних: 0.2209\n",
      "Ітерація: 19100 - Помилка на трейн даних: 0.2209\n",
      "Ітерація: 19200 - Помилка на трейн даних: 0.2209\n",
      "Ітерація: 19300 - Помилка на трейн даних: 0.2209\n",
      "Ітерація: 19400 - Помилка на трейн даних: 0.2209\n",
      "Ітерація: 19500 - Помилка на трейн даних: 0.2209\n",
      "Ітерація: 19600 - Помилка на трейн даних: 0.2209\n",
      "Ітерація: 19700 - Помилка на трейн даних: 0.2209\n",
      "Ітерація: 19800 - Помилка на трейн даних: 0.2209\n",
      "Ітерація: 19900 - Помилка на трейн даних: 0.2209\n",
      "Досягнуто максимальної кількості ітерацій\n"
     ]
    }
   ],
   "source": [
    "learning_rate = 0.01\n",
    "max_iterations = 20000\n",
    "epsilon = 10e-6\n",
    "\n",
    "theta = np.random.randn(2,1)\n",
    "\n",
    "theta, cost_history, theta_history, iterations = gradient_descent(X_train_scaled, y_train, theta, learning_rate, epsilon, max_iterations)"
   ]
  },
  {
   "cell_type": "markdown",
   "id": "763cd65b",
   "metadata": {
    "id": "763cd65b"
   },
   "source": [
    "10. Відобразимо на лінійному графіку значення змінної `cost_history`. "
   ]
  },
  {
   "cell_type": "code",
   "execution_count": 71,
   "id": "9bdacbfa",
   "metadata": {
    "id": "9bdacbfa"
   },
   "outputs": [
    {
     "data": {
      "image/png": "[encoded data removed]",
      "text/plain": [
       "<Figure size 640x480 with 1 Axes>"
      ]
     },
     "metadata": {},
     "output_type": "display_data"
    }
   ],
   "source": [
    "plt.plot(cost_history);\n",
    "plt.xlabel('Iteration');\n",
    "plt.ylabel('Cost');\n",
    "plt.title(\"Cost function changes over gradient descent iterations\");"
   ]
  },
  {
   "cell_type": "markdown",
   "id": "f25e7b8e",
   "metadata": {
    "ExecuteTime": {
     "end_time": "2021-10-08T14:56:41.741952Z",
     "start_time": "2021-10-08T14:56:41.738456Z"
    },
    "id": "f25e7b8e"
   },
   "source": [
    "Відобразимо лише перші 200 ітерацій. Схоже, що після них модель мало навчається. Можна було б застосувати техніку early stopping у даному випадку та зупинитися на деякій невеликій кількості ітерацій. Зазвичай ця техніка застосовується, щоб уникнути перенавчання. При цьому втрачається трохи точності на train set."
   ]
  },
  {
   "cell_type": "code",
   "execution_count": 72,
   "id": "3a96588e",
   "metadata": {
    "ExecuteTime": {
     "end_time": "2022-01-30T18:20:36.325570Z",
     "start_time": "2022-01-30T18:20:36.209097Z"
    },
    "id": "3a96588e"
   },
   "outputs": [
    {
     "data": {
      "image/png": "[encoded data removed]",
      "text/plain": [
       "<Figure size 640x480 with 1 Axes>"
      ]
     },
     "metadata": {},
     "output_type": "display_data"
    }
   ],
   "source": [
    "plt.plot(cost_history[:201]);\n",
    "plt.xlabel('Iteration');\n",
    "plt.ylabel('Cost');\n",
    "plt.title(\"Cost function changes over gradient descent iterations\");"
   ]
  },
  {
   "cell_type": "markdown",
   "id": "1b03a7de",
   "metadata": {
    "id": "1b03a7de"
   },
   "source": [
    "Виведемо отримані параметри та останнє значення функції витрат."
   ]
  },
  {
   "cell_type": "code",
   "execution_count": 74,
   "id": "a4b599fc",
   "metadata": {
    "ExecuteTime": {
     "end_time": "2021-10-08T20:48:05.893974Z",
     "start_time": "2021-10-08T20:48:05.890650Z"
    },
    "id": "a4b599fc"
   },
   "outputs": [
    {
     "name": "stdout",
     "output_type": "stream",
     "text": [
      "Theta0: 3.710, Theta1: 3.421\n",
      "Final cost:  0.221\n",
      "Number of iterateions: 20000\n"
     ]
    }
   ],
   "source": [
    "print('Theta0: {:0.3f}, Theta1: {:0.3f}'.format(theta[0][-1],theta[1][-1]))\n",
    "print('Final cost:  {:0.3f}'.format(cost_history[-1]))\n",
    "print('Number of iterateions: {:d}'.format(iterations))"
   ]
  },
  {
   "cell_type": "markdown",
   "id": "4b900aa2",
   "metadata": {
    "id": "4b900aa2"
   },
   "source": [
    "11. Знайдемо прогнози на `X_train_df`, `X_test_df` та порахуємо `mean_squared_error` помилку прогнозів обох підвибірках."
   ]
  },
  {
   "cell_type": "code",
   "execution_count": 76,
   "id": "4691f01a",
   "metadata": {},
   "outputs": [
    {
     "name": "stdout",
     "output_type": "stream",
     "text": [
      "Train MSE is 0.4417211941105454, test MSE is 0.5079139151125764\n"
     ]
    }
   ],
   "source": [
    "y_est_train = predict(X_train_scaled, theta)\n",
    "y_est_test = predict(X_test_scaled, theta)\n",
    "mse_train_hw = mean_squared_error(y_train, y_est_train)\n",
    "mse_test_hw = mean_squared_error(y_test, y_est_test)\n",
    "print(f\"Train MSE is {mse_train_hw}, test MSE is {mse_test_hw}\")"
   ]
  },
  {
   "cell_type": "markdown",
   "id": "e5de21d1",
   "metadata": {
    "ExecuteTime": {
     "end_time": "2021-10-08T15:02:52.150262Z",
     "start_time": "2021-10-08T15:02:52.146946Z"
    },
    "id": "e5de21d1"
   },
   "source": [
    "12. Виведемо діаграму розсіювання ознак `Score` та `GDP per capita` та додамо лінію прогнозу моделі."
   ]
  },
  {
   "cell_type": "code",
   "execution_count": 77,
   "id": "5a53e725",
   "metadata": {
    "id": "5a53e725"
   },
   "outputs": [
    {
     "data": {
      "text/plain": [
       "<matplotlib.legend.Legend at 0x24d2f22e280>"
      ]
     },
     "execution_count": 77,
     "metadata": {},
     "output_type": "execute_result"
    },
    {
     "data": {
      "image/png": "[encoded data removed]",
      "text/plain": [
       "<Figure size 640x480 with 1 Axes>"
      ]
     },
     "metadata": {},
     "output_type": "display_data"
    }
   ],
   "source": [
    "# scaling for whole data\n",
    "X_scaled = scaler.transform(X)\n",
    "# add column of ones\n",
    "X_scaled = np.hstack((X_scaled, np.ones(X_scaled.shape)))\n",
    "# prediction for whole data\n",
    "y_pred = predict(X_scaled, theta)\n",
    "# plot\n",
    "plt.scatter(X, y, alpha=0.4, label='True data')\n",
    "plt.plot(X, y_pred, \"r\", label='Prediction line')\n",
    "plt.xlabel(\"GDP per capita\")\n",
    "plt.ylabel(\"Score\")\n",
    "plt.legend()"
   ]
  },
  {
   "cell_type": "markdown",
   "id": "7c55cead",
   "metadata": {
    "id": "7c55cead"
   },
   "source": [
    "13. Навчимо лінійну регресію на наборі даних, що складається тільки з ознаки `GDP per capita`, але тепер використовуючи LinearRegression з sklearn.   "
   ]
  },
  {
   "cell_type": "code",
   "execution_count": 78,
   "id": "b0d7d2f5",
   "metadata": {},
   "outputs": [
    {
     "data": {
      "text/plain": [
       "LinearRegression()"
      ]
     },
     "execution_count": 78,
     "metadata": {},
     "output_type": "execute_result"
    }
   ],
   "source": [
    "# ми могли би використати вже пораховані вище змінні, але давайте проробимо весь шлях спочатку, але тепер вже для моделі з sklearn\n",
    "X = pd.DataFrame(df['GDP per capita'])\n",
    "y = df['Score']\n",
    "\n",
    "X_train, X_test, y_train, y_test = train_test_split(X, y, test_size=0.2, shuffle=True, random_state=42)\n",
    "\n",
    "min_max_scaler = MinMaxScaler(feature_range=(0,1))\n",
    "min_max_scaler.fit(X_train)\n",
    "X_train_scaled = min_max_scaler.transform(X_train)\n",
    "X_test_scaled = min_max_scaler.transform(X_test)\n",
    "# стовпчик з одиниць додавати не треба, це вже реалізовано \n",
    "lr = LinearRegression()\n",
    "lr.fit(X_train_scaled, y_train)"
   ]
  },
  {
   "cell_type": "markdown",
   "id": "35ffff79",
   "metadata": {},
   "source": [
    "Порівняємо помилку на тестовій вибірці написаної лінійної регресії та зі sklearn. "
   ]
  },
  {
   "cell_type": "code",
   "execution_count": 79,
   "id": "b3cefe53",
   "metadata": {},
   "outputs": [
    {
     "name": "stdout",
     "output_type": "stream",
     "text": [
      "Train MSE: 0.4417211923118579 sklearn vs 0.4417211941105454 hand-written, test MSE: 0.5079112698997723 sklearn vs 0.5079139151125764 hand-written\n"
     ]
    }
   ],
   "source": [
    "y_est_train = lr.predict(X_train_scaled)\n",
    "y_est_test = lr.predict(X_test_scaled)\n",
    "mse_train_lr = mean_squared_error(y_train, y_est_train)\n",
    "mse_test_lr = mean_squared_error(y_test, y_est_test)\n",
    "print(f\"Train MSE: {mse_train_lr} sklearn vs {mse_train_hw} hand-written, test MSE: {mse_test_lr} sklearn vs {mse_test_hw} hand-written\")"
   ]
  },
  {
   "cell_type": "markdown",
   "id": "a8bb6feb",
   "metadata": {},
   "source": [
    "Бачимо, що помилки практично однакові. "
   ]
  },
  {
   "cell_type": "markdown",
   "id": "61e8299b",
   "metadata": {
    "id": "61e8299b"
   },
   "source": [
    "14. Навчимо лінійну регресію на більшій кількості ознак і подивимося, чи вдасться покращити модель."
   ]
  },
  {
   "cell_type": "markdown",
   "id": "a4e10ab5",
   "metadata": {
    "ExecuteTime": {
     "end_time": "2021-10-14T16:54:08.159686Z",
     "start_time": "2021-10-14T16:54:08.152242Z"
    },
    "id": "a4e10ab5"
   },
   "source": [
    "14.1 Навчимо лінійну регресію з sklearn використовуючи як набір ознак наступний: `GDP per capita`, `Social support`, `Healthy life expectancy`, `Freedom to make life choices`, `Generosity`, `Perceptions of corruption`"
   ]
  },
  {
   "cell_type": "code",
   "execution_count": 82,
   "id": "69958ca9",
   "metadata": {
    "id": "69958ca9"
   },
   "outputs": [],
   "source": [
    "# спершу згадаємо допоміжні методи з лекції\n",
    "def get_indices(X):\n",
    "    train_id, test_id = train_test_split(X.index, test_size=test_size, shuffle=True, random_state=42)\n",
    "    return train_id, test_id\n",
    "    \n",
    "def evaluate_model(model, X_train, X_test, y_train, y_test):\n",
    "  y_train_pred = model.predict(X_train)\n",
    "  y_test_pred = model.predict(X_test)\n",
    "\n",
    "  train_mse = mean_squared_error(y_train, y_train_pred)\n",
    "  test_mse = mean_squared_error(y_test, y_test_pred)\n",
    "\n",
    "  return train_mse, test_mse"
   ]
  },
  {
   "cell_type": "code",
   "execution_count": 84,
   "id": "e9c51475",
   "metadata": {},
   "outputs": [
    {
     "data": {
      "text/plain": [
       "LinearRegression()"
      ]
     },
     "execution_count": 84,
     "metadata": {},
     "output_type": "execute_result"
    }
   ],
   "source": [
    "feature_names = [\n",
    "    'GDP per capita', \n",
    "    'Social support', \n",
    "    'Healthy life expectancy', \n",
    "    'Freedom to make life choices',\n",
    "    'Generosity',\n",
    "    'Perceptions of corruption'\n",
    "]\n",
    "target_col_name = 'Score'\n",
    "test_size = 0.2\n",
    "\n",
    "X = df[feature_names]\n",
    "y = df[target_col_name]\n",
    "\n",
    "train_id, test_id = get_indices(X)\n",
    "\n",
    "min_max_scaler = MinMaxScaler(feature_range=(0,1))\n",
    "min_max_scaler.fit(X.loc[train_id])\n",
    "min_max_scaled = min_max_scaler.transform(X)\n",
    "min_max_scaled_df = pd.DataFrame(min_max_scaled, columns=X.columns)\n",
    "\n",
    "lr = LinearRegression()\n",
    "lr.fit(min_max_scaled_df.loc[train_id], y.loc[train_id])"
   ]
  },
  {
   "cell_type": "markdown",
   "id": "8d8e3625",
   "metadata": {
    "id": "8d8e3625"
   },
   "source": [
    "14.2 Виведемо помилку прогнозу на `train` та `test` вибірках. Порівняємо з результатом, отриманим під час навчання однією ознакою. "
   ]
  },
  {
   "cell_type": "code",
   "execution_count": 85,
   "id": "95591a90",
   "metadata": {
    "id": "95591a90"
   },
   "outputs": [
    {
     "name": "stdout",
     "output_type": "stream",
     "text": [
      "Multiple linear regression train MSE is 0.23646992155921964, test MSE is 0.4144641383528353\n"
     ]
    }
   ],
   "source": [
    "mse_train_mf, mse_test_mf = evaluate_model(lr, min_max_scaled_df.loc[train_id], min_max_scaled_df.loc[test_id], y.loc[train_id], y.loc[test_id])\n",
    "print(f\"Multiple linear regression train MSE is {mse_train_mf}, test MSE is {mse_test_mf}\")"
   ]
  },
  {
   "cell_type": "markdown",
   "id": "f1b2b3fb",
   "metadata": {
    "id": "f1b2b3fb"
   },
   "source": [
    "14.3 Виведемо коефіцієнти моделі і визначимо, які ознаки мають найбільші коефіцієнти по модулю, що стоять перед ними."
   ]
  },
  {
   "cell_type": "code",
   "execution_count": 86,
   "id": "a187e4de",
   "metadata": {},
   "outputs": [
    {
     "data": {
      "text/html": [
       "<div>\n",
       "<style scoped>\n",
       "    .dataframe tbody tr th:only-of-type {\n",
       "        vertical-align: middle;\n",
       "    }\n",
       "\n",
       "    .dataframe tbody tr th {\n",
       "        vertical-align: top;\n",
       "    }\n",
       "\n",
       "    .dataframe thead th {\n",
       "        text-align: right;\n",
       "    }\n",
       "</style>\n",
       "<table border=\"1\" class=\"dataframe\">\n",
       "  <thead>\n",
       "    <tr style=\"text-align: right;\">\n",
       "      <th></th>\n",
       "      <th>features</th>\n",
       "      <th>coefficient</th>\n",
       "    </tr>\n",
       "  </thead>\n",
       "  <tbody>\n",
       "    <tr>\n",
       "      <th>1</th>\n",
       "      <td>Social support</td>\n",
       "      <td>2.001295</td>\n",
       "    </tr>\n",
       "    <tr>\n",
       "      <th>0</th>\n",
       "      <td>GDP per capita</td>\n",
       "      <td>1.264207</td>\n",
       "    </tr>\n",
       "    <tr>\n",
       "      <th>2</th>\n",
       "      <td>Healthy life expectancy</td>\n",
       "      <td>1.062208</td>\n",
       "    </tr>\n",
       "    <tr>\n",
       "      <th>3</th>\n",
       "      <td>Freedom to make life choices</td>\n",
       "      <td>0.940072</td>\n",
       "    </tr>\n",
       "    <tr>\n",
       "      <th>5</th>\n",
       "      <td>Perceptions of corruption</td>\n",
       "      <td>0.503931</td>\n",
       "    </tr>\n",
       "    <tr>\n",
       "      <th>4</th>\n",
       "      <td>Generosity</td>\n",
       "      <td>0.153034</td>\n",
       "    </tr>\n",
       "  </tbody>\n",
       "</table>\n",
       "</div>"
      ],
      "text/plain": [
       "                       features  coefficient\n",
       "1                Social support     2.001295\n",
       "0                GDP per capita     1.264207\n",
       "2       Healthy life expectancy     1.062208\n",
       "3  Freedom to make life choices     0.940072\n",
       "5     Perceptions of corruption     0.503931\n",
       "4                    Generosity     0.153034"
      ]
     },
     "execution_count": 86,
     "metadata": {},
     "output_type": "execute_result"
    }
   ],
   "source": [
    "importance = pd.DataFrame({\"features\": X.columns, \"coefficient\": np.abs(lr.coef_)}).sort_values(\"coefficient\", ascending=False)\n",
    "importance"
   ]
  },
  {
   "cell_type": "markdown",
   "id": "21912671",
   "metadata": {
    "id": "21912671"
   },
   "source": [
    "15. Навчимо модель поліноміальної регресії зі ступенем 2 на тих самих даних, що й у попередньому пункті. Використаємо у процесі навчання `PolynomialFeatures`. Дослідимо метрики якості на трейні та тест датасетах. "
   ]
  },
  {
   "cell_type": "code",
   "execution_count": 87,
   "id": "4c2c3e57",
   "metadata": {},
   "outputs": [
    {
     "name": "stdout",
     "output_type": "stream",
     "text": [
      "Polinomial  regression train MSE is 0.14675898592009984, test MSE is 0.37894713847097816\n"
     ]
    }
   ],
   "source": [
    "# створюємо обʼєкт \n",
    "poly = PolynomialFeatures(degree=2, include_bias=False)\n",
    "# для тренувальної вибірки можемо використовувати одразу fit_transform\n",
    "X_poly_train = poly.fit_transform(min_max_scaled_df.loc[train_id])\n",
    "X_poly_test = poly.transform(min_max_scaled_df.loc[test_id])\n",
    "\n",
    "# тренуємо лінійну регресію на поліноміальних фічах\n",
    "lr_poly = LinearRegression()\n",
    "lr_poly.fit(X_poly_train, y.loc[train_id])\n",
    "\n",
    "# рахуємо метрики якості\n",
    "mse_train_poly, mse_test_poly = evaluate_model(lr_poly, X_poly_train, X_poly_test, y.loc[train_id], y.loc[test_id])\n",
    "print(f\"Polinomial  regression train MSE is {mse_train_poly}, test MSE is {mse_test_poly}\")"
   ]
  },
  {
   "cell_type": "markdown",
   "id": "167dfa96",
   "metadata": {},
   "source": [
    "Присутній overfit"
   ]
  },
  {
   "cell_type": "markdown",
   "id": "af1ffc17",
   "metadata": {
    "id": "af1ffc17"
   },
   "source": [
    "16. Зробимо пайплайн із кроками `MinMaxScaler`, `PolynomialFeatures` та `ElasticNet`. "
   ]
  },
  {
   "cell_type": "code",
   "execution_count": 88,
   "id": "8b654ac1",
   "metadata": {
    "id": "8b654ac1"
   },
   "outputs": [
    {
     "name": "stdout",
     "output_type": "stream",
     "text": [
      "Polinomial  regression train MSE is 1.2794603680411027, test MSE is 1.0444315956685744\n"
     ]
    }
   ],
   "source": [
    "degree = 2\n",
    "pipeline = Pipeline([\n",
    "    ('scaler', MinMaxScaler()),\n",
    "    ('poly_features', PolynomialFeatures(degree=degree)),\n",
    "    ('model', ElasticNet())\n",
    "])\n",
    "pipeline.fit(X.loc[train_id], y.loc[train_id])\n",
    "# рахуємо метрики якості\n",
    "mse_train_pipe, mse_test_pipe = evaluate_model(pipeline, X.loc[train_id], X.loc[test_id], y.loc[train_id], y.loc[test_id])\n",
    "print(f\"Polinomial  regression train MSE is {mse_train_pipe}, test MSE is {mse_test_pipe}\")"
   ]
  },
  {
   "cell_type": "code",
   "execution_count": 89,
   "id": "b9a065c0",
   "metadata": {},
   "outputs": [
    {
     "data": {
      "text/html": [
       "<style type=\"text/css\">\n",
       "#T_71f2a_row0_col1, #T_71f2a_row0_col2, #T_71f2a_row1_col1, #T_71f2a_row1_col2 {\n",
       "  background-color: #023858;\n",
       "  color: #f1f1f1;\n",
       "}\n",
       "#T_71f2a_row2_col1 {\n",
       "  background-color: #bfc9e1;\n",
       "  color: #000000;\n",
       "}\n",
       "#T_71f2a_row2_col2 {\n",
       "  background-color: #c8cde4;\n",
       "  color: #000000;\n",
       "}\n",
       "#T_71f2a_row3_col1, #T_71f2a_row3_col2 {\n",
       "  background-color: #fff7fb;\n",
       "  color: #000000;\n",
       "}\n",
       "</style>\n",
       "<table id=\"T_71f2a\">\n",
       "  <thead>\n",
       "    <tr>\n",
       "      <th class=\"blank level0\" >&nbsp;</th>\n",
       "      <th id=\"T_71f2a_level0_col0\" class=\"col_heading level0 col0\" >model</th>\n",
       "      <th id=\"T_71f2a_level0_col1\" class=\"col_heading level0 col1\" >train_mse</th>\n",
       "      <th id=\"T_71f2a_level0_col2\" class=\"col_heading level0 col2\" >test_mse</th>\n",
       "    </tr>\n",
       "  </thead>\n",
       "  <tbody>\n",
       "    <tr>\n",
       "      <th id=\"T_71f2a_level0_row0\" class=\"row_heading level0 row0\" >0</th>\n",
       "      <td id=\"T_71f2a_row0_col0\" class=\"data row0 col0\" >hand-written lr</td>\n",
       "      <td id=\"T_71f2a_row0_col1\" class=\"data row0 col1\" >0.441721</td>\n",
       "      <td id=\"T_71f2a_row0_col2\" class=\"data row0 col2\" >0.507914</td>\n",
       "    </tr>\n",
       "    <tr>\n",
       "      <th id=\"T_71f2a_level0_row1\" class=\"row_heading level0 row1\" >1</th>\n",
       "      <td id=\"T_71f2a_row1_col0\" class=\"data row1 col0\" >simple lr</td>\n",
       "      <td id=\"T_71f2a_row1_col1\" class=\"data row1 col1\" >0.441721</td>\n",
       "      <td id=\"T_71f2a_row1_col2\" class=\"data row1 col2\" >0.507911</td>\n",
       "    </tr>\n",
       "    <tr>\n",
       "      <th id=\"T_71f2a_level0_row2\" class=\"row_heading level0 row2\" >2</th>\n",
       "      <td id=\"T_71f2a_row2_col0\" class=\"data row2 col0\" >multiple lr</td>\n",
       "      <td id=\"T_71f2a_row2_col1\" class=\"data row2 col1\" >0.236470</td>\n",
       "      <td id=\"T_71f2a_row2_col2\" class=\"data row2 col2\" >0.414464</td>\n",
       "    </tr>\n",
       "    <tr>\n",
       "      <th id=\"T_71f2a_level0_row3\" class=\"row_heading level0 row3\" >3</th>\n",
       "      <td id=\"T_71f2a_row3_col0\" class=\"data row3 col0\" >poly lr</td>\n",
       "      <td id=\"T_71f2a_row3_col1\" class=\"data row3 col1\" >0.146759</td>\n",
       "      <td id=\"T_71f2a_row3_col2\" class=\"data row3 col2\" >0.378947</td>\n",
       "    </tr>\n",
       "  </tbody>\n",
       "</table>\n"
      ],
      "text/plain": [
       "<pandas.io.formats.style.Styler at 0x24d2de718e0>"
      ]
     },
     "execution_count": 89,
     "metadata": {},
     "output_type": "execute_result"
    }
   ],
   "source": [
    "# а тепер порівняємо MSE для моделей, що тренували вище\n",
    "metrics = pd.DataFrame({\n",
    "    \"model\":[\"hand-written lr\", \"simple lr\", \"multiple lr\", \"poly lr\"],\n",
    "    \"train_mse\": [mse_train_hw, mse_train_lr, mse_train_mf, mse_train_poly],\n",
    "    \"test_mse\": [mse_test_hw, mse_test_lr, mse_test_mf, mse_test_poly]\n",
    "    })\n",
    "metrics.style.background_gradient()"
   ]
  },
  {
   "cell_type": "markdown",
   "id": "71056eaa",
   "metadata": {},
   "source": [
    "Висновок: найнижчі помилки для тренувальної і тестової вибірки має поліноміальна регресія.Також бачимо, що різниця між тестовою і тренувальною MSE поліноміальної регресії і регресії на багатьох фічах досить велика. Це може свідчити про перенавчання. Тут в нагоді стане регуляризація."
   ]
  }
 ],
 "metadata": {
  "colab": {
   "provenance": []
  },
  "kernelspec": {
   "display_name": "Python 3 (ipykernel)",
   "language": "python",
   "name": "python3"
  },
  "language_info": {
   "codemirror_mode": {
    "name": "ipython",
    "version": 3
   },
   "file_extension": ".py",
   "mimetype": "text/x-python",
   "name": "python",
   "nbconvert_exporter": "python",
   "pygments_lexer": "ipython3",
   "version": "3.9.13"
  },
  "toc": {
   "base_numbering": 1,
   "nav_menu": {},
   "number_sections": true,
   "sideBar": true,
   "skip_h1_title": false,
   "title_cell": "Table of Contents",
   "title_sidebar": "Contents",
   "toc_cell": false,
   "toc_position": {},
   "toc_section_display": true,
   "toc_window_display": false
  }
 },
 "nbformat": 4,
 "nbformat_minor": 5
}
